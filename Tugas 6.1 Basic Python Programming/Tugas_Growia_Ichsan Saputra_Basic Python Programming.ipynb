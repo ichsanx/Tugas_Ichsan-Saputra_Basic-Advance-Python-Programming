{
 "cells": [
  {
   "cell_type": "code",
   "execution_count": 2,
   "id": "f0f8157e-70be-47f0-b6d5-68e79c258bf0",
   "metadata": {},
   "outputs": [],
   "source": [
    "import pandas as pd"
   ]
  },
  {
   "cell_type": "code",
   "execution_count": 5,
   "id": "36c8463a-a4cb-4ca0-9236-62d1a6dd2bbf",
   "metadata": {},
   "outputs": [
    {
     "data": {
      "text/plain": [
       "'2.2.3'"
      ]
     },
     "execution_count": 5,
     "metadata": {},
     "output_type": "execute_result"
    }
   ],
   "source": [
    "pd.__version__"
   ]
  },
  {
   "cell_type": "code",
   "execution_count": 6,
   "id": "a7c64106-c39e-4b67-9131-5e7229689330",
   "metadata": {},
   "outputs": [
    {
     "name": "stdout",
     "output_type": "stream",
     "text": [
      "Jumlah angka genap dalam list: 6\n"
     ]
    }
   ],
   "source": [
    "def jumlah_angka_genap(list_angka):\n",
    "    total = 0\n",
    "    for angka in list_angka:\n",
    "        if angka % 2 == 0:\n",
    "            total += angka\n",
    "    return total\n",
    "\n",
    "# Contoh penggunaan\n",
    "list_angka = [1, 2, 3, 4, 5]\n",
    "hasil = jumlah_angka_genap(list_angka)\n",
    "print(\"Jumlah angka genap dalam list:\", hasil)"
   ]
  },
  {
   "cell_type": "code",
   "execution_count": 10,
   "id": "4eafeeff-7c0a-4fe7-b49b-6990a5f8b94d",
   "metadata": {},
   "outputs": [
    {
     "name": "stdout",
     "output_type": "stream",
     "text": [
      "Apakah list terurut dengan benar? True\n"
     ]
    }
   ],
   "source": [
    "def cek_terurut(list_angka):\n",
    "    return list_angka == sorted(list_angka) or list_angka == sorted(list_angka, reverse=True)\n",
    "\n",
    "# Eksekusi\n",
    "list_angka = [1, 3, 5, 7]\n",
    "hasil = cek_terurut(list_angka)\n",
    "print(\"Apakah list terurut dengan benar?\", hasil)"
   ]
  },
  {
   "cell_type": "code",
   "execution_count": 11,
   "id": "31e32384-1d8c-47d1-bfe7-0d129adb619a",
   "metadata": {},
   "outputs": [
    {
     "name": "stdout",
     "output_type": "stream",
     "text": [
      "Saldo akhir nasabah: {'Tono': 605, 'Joko': 980, 'Susi': 590}\n"
     ]
    }
   ],
   "source": [
    "def hitung_saldo_akhir(saldo_awal, list_nilai):\n",
    "    for nama, perubahan in list_nilai:\n",
    "        if nama in saldo_awal:\n",
    "            saldo_awal[nama] += perubahan\n",
    "        else:\n",
    "            saldo_awal[nama] = perubahan  # Jika nama belum ada di saldo_awal\n",
    "    return saldo_awal\n",
    "\n",
    "# Data awal\n",
    "saldo_awal = {'Tono': 700, 'Joko': 900, 'Susi': 500}\n",
    "list_nilai = [('Tono', -100), ('Tono', -90), ('Joko', 80), ('Susi', 90), ('Tono', 95)]\n",
    "\n",
    "# Hitung saldo akhir\n",
    "saldo_akhir = hitung_saldo_akhir(saldo_awal, list_nilai)\n",
    "print(\"Saldo akhir nasabah:\", saldo_akhir)"
   ]
  }
 ],
 "metadata": {
  "kernelspec": {
   "display_name": "growia_practice",
   "language": "python",
   "name": "growia_practice"
  },
  "language_info": {
   "codemirror_mode": {
    "name": "ipython",
    "version": 3
   },
   "file_extension": ".py",
   "mimetype": "text/x-python",
   "name": "python",
   "nbconvert_exporter": "python",
   "pygments_lexer": "ipython3",
   "version": "3.10.16"
  }
 },
 "nbformat": 4,
 "nbformat_minor": 5
}
